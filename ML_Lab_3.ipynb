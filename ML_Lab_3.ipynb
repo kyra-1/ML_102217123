{
  "nbformat": 4,
  "nbformat_minor": 0,
  "metadata": {
    "colab": {
      "provenance": []
    },
    "kernelspec": {
      "name": "python3",
      "display_name": "Python 3"
    },
    "language_info": {
      "name": "python"
    }
  },
  "cells": [
    {
      "cell_type": "code",
      "execution_count": 1,
      "metadata": {
        "colab": {
          "base_uri": "https://localhost:8080/"
        },
        "id": "4c_dSd_x5f42",
        "outputId": "b8ec554e-3423-42b2-bb02-0b333970792f"
      },
      "outputs": [
        {
          "output_type": "stream",
          "name": "stdout",
          "text": [
            "   Avg. Area Income  Avg. Area House Age  Avg. Area Number of Rooms  \\\n",
            "0       79545.45857             5.682861                   7.009188   \n",
            "1       79248.64245             6.002900                   6.730821   \n",
            "2       61287.06718             5.865890                   8.512727   \n",
            "3       63345.24005             7.188236                   5.586729   \n",
            "4       59982.19723             5.040555                   7.839388   \n",
            "\n",
            "   Avg. Area Number of Bedrooms  Area Population         Price  \n",
            "0                          4.09      23086.80050  1.059034e+06  \n",
            "1                          3.09      40173.07217  1.505891e+06  \n",
            "2                          5.13      36882.15940  1.058988e+06  \n",
            "3                          3.26      34310.24283  1.260617e+06  \n",
            "4                          4.23      26354.10947  6.309435e+05  \n",
            "R2 Scores for each fold: [-10.300071205944167, -11.822298643817328, -12.094531071359691, -11.508307680681673, -10.862223732060572]\n",
            "Best R2 Score: -10.300071205944167\n",
            "Best Beta (𝛽) matrix: [234014.59716798 165403.01565223 122605.37139888   3838.19445728\n",
            " 147148.59120626]\n",
            "R2 Score on the test set: -11.005590723145165\n"
          ]
        }
      ],
      "source": [
        "#Question-1\n",
        "import pandas as pd\n",
        "import numpy as np\n",
        "from sklearn.model_selection import KFold\n",
        "from sklearn.preprocessing import StandardScaler\n",
        "from sklearn.metrics import r2_score\n",
        "from sklearn.model_selection import train_test_split\n",
        "\n",
        "df = pd.read_csv('/content/USA_Housing (1).csv')\n",
        "\n",
        "print(df.head())\n",
        "\n",
        "X = df.drop('Price', axis=1)\n",
        "y = df['Price']\n",
        "\n",
        "scaler = StandardScaler()\n",
        "X_scaled = scaler.fit_transform(X)\n",
        "\n",
        "kf = KFold(n_splits=5, shuffle=True, random_state=1)\n",
        "\n",
        "best_r2 = -np.inf\n",
        "best_beta = None\n",
        "r2_scores = []\n",
        "\n",
        "for train_index, test_index in kf.split(X_scaled):\n",
        "    X_train, X_test = X_scaled[train_index], X_scaled[test_index]\n",
        "    y_train, y_test = y[train_index], y[test_index]\n",
        "\n",
        "    X_train_transpose = X_train.T\n",
        "    beta = np.linalg.inv(X_train_transpose @ X_train) @ X_train_transpose @ y_train\n",
        "\n",
        "    y_pred = X_test @ beta\n",
        "\n",
        "    r2 = r2_score(y_test, y_pred)\n",
        "    r2_scores.append(r2)\n",
        "\n",
        "    if r2 > best_r2:\n",
        "        best_r2 = r2\n",
        "        best_beta = beta\n",
        "\n",
        "print(f\"R2 Scores for each fold: {r2_scores}\")\n",
        "print(f\"Best R2 Score: {best_r2}\")\n",
        "print(f\"Best Beta (𝛽) matrix: {best_beta}\")\n",
        "\n",
        "X_train_full, X_test_full, y_train_full, y_test_full = train_test_split(X_scaled, y, test_size=0.3, random_state=1)\n",
        "\n",
        "y_pred_full = X_test_full @ best_beta\n",
        "\n",
        "final_r2 = r2_score(y_test_full, y_pred_full)\n",
        "\n",
        "print(f\"R2 Score on the test set: {final_r2}\")\n"
      ]
    },
    {
      "cell_type": "code",
      "source": [
        "#Question-2\n",
        "import pandas as pd\n",
        "import numpy as np\n",
        "from sklearn.metrics import r2_score\n",
        "from sklearn.model_selection import train_test_split\n",
        "from sklearn.preprocessing import StandardScaler\n",
        "\n",
        "df = pd.read_csv('/content/USA_Housing (1).csv')\n",
        "X = df.drop('Price', axis=1)\n",
        "y = df['Price']\n",
        "\n",
        "X_train, X_temp, y_train, y_temp = train_test_split(X, y, test_size=0.44, random_state=1)\n",
        "X_val, X_test, y_val, y_test = train_test_split(X_temp, y_temp, test_size=0.68, random_state=1)\n",
        "\n",
        "scaler = StandardScaler()\n",
        "X_train_scaled = scaler.fit_transform(X_train)\n",
        "X_val_scaled = scaler.transform(X_val)\n",
        "X_test_scaled = scaler.transform(X_test)\n",
        "\n",
        "def gradient_descent(X, y, learning_rate, num_iterations):\n",
        "    m, n = X.shape\n",
        "    weights = np.zeros(n)\n",
        "    for i in range(num_iterations):\n",
        "        y_pred = X @ weights\n",
        "        gradient = (-2/m) * (X.T @ (y - y_pred))\n",
        "        weights -= learning_rate * gradient\n",
        "    return weights\n",
        "\n",
        "learning_rates = [0.001, 0.01, 0.1, 1]\n",
        "num_iterations = 1000\n",
        "best_r2_val = -np.inf\n",
        "best_weights = None\n",
        "\n",
        "for lr in learning_rates:\n",
        "    weights = gradient_descent(X_train_scaled, y_train, learning_rate=lr, num_iterations=num_iterations)\n",
        "    y_val_pred = X_val_scaled @ weights\n",
        "    r2_val = r2_score(y_val, y_val_pred)\n",
        "    y_test_pred = X_test_scaled @ weights\n",
        "    r2_test = r2_score(y_test, y_test_pred)\n",
        "    print(f\"Learning Rate: {lr}, Validation R²: {r2_val:.4f}, Test R²: {r2_test:.4f}\")\n",
        "    if r2_val > best_r2_val:\n",
        "        best_r2_val = r2_val\n",
        "        best_weights = weights\n",
        "\n",
        "print(f\"\\nBest Regression Coefficients: {best_weights}\")\n",
        "print(f\"Best Validation R² Score: {best_r2_val}\")\n"
      ],
      "metadata": {
        "colab": {
          "base_uri": "https://localhost:8080/"
        },
        "id": "jPEab9HcADZ2",
        "outputId": "ab933d85-27fb-411c-ee94-6fa3d55f960e"
      },
      "execution_count": 2,
      "outputs": [
        {
          "output_type": "stream",
          "name": "stdout",
          "text": [
            "Learning Rate: 0.001, Validation R²: -11.3406, Test R²: -11.1197\n",
            "Learning Rate: 0.01, Validation R²: -11.2835, Test R²: -11.0665\n",
            "Learning Rate: 0.1, Validation R²: -11.2835, Test R²: -11.0665\n",
            "Learning Rate: 1, Validation R²: -inf, Test R²: -inf\n",
            "\n",
            "Best Regression Coefficients: [227824.57103874 162953.94955334 122053.79216548   2375.65811199\n",
            " 151147.90687675]\n",
            "Best Validation R² Score: -11.283521486523076\n"
          ]
        },
        {
          "output_type": "stream",
          "name": "stderr",
          "text": [
            "/usr/local/lib/python3.10/dist-packages/sklearn/metrics/_regression.py:1220: RuntimeWarning: overflow encountered in square\n",
            "  numerator = xp.sum(weight * (y_true - y_pred) ** 2, axis=0)\n",
            "/usr/local/lib/python3.10/dist-packages/sklearn/metrics/_regression.py:1220: RuntimeWarning: overflow encountered in square\n",
            "  numerator = xp.sum(weight * (y_true - y_pred) ** 2, axis=0)\n"
          ]
        }
      ]
    }
  ]
}