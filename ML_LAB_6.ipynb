{
  "nbformat": 4,
  "nbformat_minor": 0,
  "metadata": {
    "colab": {
      "provenance": []
    },
    "kernelspec": {
      "name": "python3",
      "display_name": "Python 3"
    },
    "language_info": {
      "name": "python"
    }
  },
  "cells": [
    {
      "cell_type": "code",
      "execution_count": null,
      "metadata": {
        "colab": {
          "base_uri": "https://localhost:8080/"
        },
        "id": "SP3ZBRJ32iUG",
        "outputId": "a9bfb95f-06de-41e0-fc29-4b0dded59d55"
      },
      "outputs": [
        {
          "output_type": "stream",
          "name": "stdout",
          "text": [
            "Step-by-Step Gaussian Naive Bayes Accuracy: 1.0\n",
            "Classification Report:\n",
            "               precision    recall  f1-score   support\n",
            "\n",
            "           0       1.00      1.00      1.00        10\n",
            "           1       1.00      1.00      1.00         9\n",
            "           2       1.00      1.00      1.00        11\n",
            "\n",
            "    accuracy                           1.00        30\n",
            "   macro avg       1.00      1.00      1.00        30\n",
            "weighted avg       1.00      1.00      1.00        30\n",
            "\n"
          ]
        }
      ],
      "source": [
        "#Question-1\n",
        "# part (i)\n",
        "\n",
        "import numpy as np\n",
        "from sklearn.datasets import load_iris\n",
        "from sklearn.model_selection import train_test_split\n",
        "from sklearn.metrics import accuracy_score, classification_report\n",
        "\n",
        "data = load_iris()\n",
        "X, y = data.data, data.target\n",
        "\n",
        "X_train, X_test, y_train, y_test = train_test_split(X, y, test_size=0.2, random_state=42)\n",
        "\n",
        "class GaussianNaiveBayes:\n",
        "    def fit(self, X, y):\n",
        "        self.classes = np.unique(y)\n",
        "        self.mean = {}\n",
        "        self.variance = {}\n",
        "        self.priors = {}\n",
        "\n",
        "        for cls in self.classes:\n",
        "            X_c = X[y == cls]\n",
        "            self.mean[cls] = X_c.mean(axis=0)\n",
        "            self.variance[cls] = X_c.var(axis=0)\n",
        "            self.priors[cls] = X_c.shape[0] / X.shape[0]\n",
        "\n",
        "    def gaussian_probability(self, class_idx, x):\n",
        "        mean = self.mean[class_idx]\n",
        "        var = self.variance[class_idx]\n",
        "        numerator = np.exp(-((x - mean) ** 2) / (2 * var))\n",
        "        denominator = np.sqrt(2 * np.pi * var)\n",
        "        return numerator / denominator\n",
        "\n",
        "    def predict(self, X):\n",
        "        predictions = []\n",
        "        for x in X:\n",
        "            class_probs = {}\n",
        "            for cls in self.classes:\n",
        "                prior = np.log(self.priors[cls])\n",
        "                conditional = np.sum(np.log(self.gaussian_probability(cls, x)))\n",
        "                class_probs[cls] = prior + conditional\n",
        "            predictions.append(max(class_probs, key=class_probs.get))\n",
        "        return predictions\n",
        "\n",
        "gnb_step_by_step = GaussianNaiveBayes()\n",
        "gnb_step_by_step.fit(X_train, y_train)\n",
        "\n",
        "y_pred_step_by_step = gnb_step_by_step.predict(X_test)\n",
        "accuracy_step_by_step = accuracy_score(y_test, y_pred_step_by_step)\n",
        "print(\"Step-by-Step Gaussian Naive Bayes Accuracy:\", accuracy_step_by_step)\n",
        "print(\"Classification Report:\\n\", classification_report(y_test, y_pred_step_by_step))\n"
      ]
    },
    {
      "cell_type": "code",
      "source": [
        "#Question 1\n",
        "# part (ii)\n",
        "\n",
        "from sklearn.naive_bayes import GaussianNB\n",
        "\n",
        "gnb_inbuilt = GaussianNB()\n",
        "gnb_inbuilt.fit(X_train, y_train)\n",
        "\n",
        "y_pred_inbuilt = gnb_inbuilt.predict(X_test)\n",
        "accuracy_inbuilt = accuracy_score(y_test, y_pred_inbuilt)\n",
        "print(\"In-Built Gaussian Naive Bayes Accuracy:\", accuracy_inbuilt)\n",
        "print(\"Classification Report:\\n\", classification_report(y_test, y_pred_inbuilt))\n"
      ],
      "metadata": {
        "colab": {
          "base_uri": "https://localhost:8080/"
        },
        "id": "63iWlv9N3L9-",
        "outputId": "48b12675-9238-4940-dad6-21cc86b5bf5e"
      },
      "execution_count": null,
      "outputs": [
        {
          "output_type": "stream",
          "name": "stdout",
          "text": [
            "In-Built Gaussian Naive Bayes Accuracy: 1.0\n",
            "Classification Report:\n",
            "               precision    recall  f1-score   support\n",
            "\n",
            "           0       1.00      1.00      1.00        10\n",
            "           1       1.00      1.00      1.00         9\n",
            "           2       1.00      1.00      1.00        11\n",
            "\n",
            "    accuracy                           1.00        30\n",
            "   macro avg       1.00      1.00      1.00        30\n",
            "weighted avg       1.00      1.00      1.00        30\n",
            "\n"
          ]
        }
      ]
    },
    {
      "cell_type": "code",
      "source": [
        "#Question-2\n",
        "\n",
        "from sklearn.datasets import load_iris\n",
        "from sklearn.model_selection import GridSearchCV, train_test_split\n",
        "from sklearn.neighbors import KNeighborsClassifier\n",
        "from sklearn.metrics import accuracy_score\n",
        "\n",
        "data = load_iris()\n",
        "X, y = data.data, data.target\n",
        "\n",
        "X_train, X_test, y_train, y_test = train_test_split(X, y, test_size=0.2, random_state=42)\n",
        "\n",
        "knn = KNeighborsClassifier()\n",
        "param_grid = {'n_neighbors': list(range(1, 31))}\n",
        "\n",
        "grid_search = GridSearchCV(estimator=knn, param_grid=param_grid, cv=5, scoring='accuracy')\n",
        "grid_search.fit(X_train, y_train)\n",
        "\n",
        "print(\"Best K value:\", grid_search.best_params_['n_neighbors'])\n",
        "print(\"Best cross-validated accuracy:\", grid_search.best_score_)\n",
        "\n",
        "best_knn = grid_search.best_estimator_\n",
        "y_pred = best_knn.predict(X_test)\n",
        "print(\"Test set accuracy with best K:\", accuracy_score(y_test, y_pred))\n"
      ],
      "metadata": {
        "colab": {
          "base_uri": "https://localhost:8080/"
        },
        "id": "Qu-QWpvg3Ncc",
        "outputId": "f2f3e8ac-bccf-47b3-df5f-26b098de9818"
      },
      "execution_count": null,
      "outputs": [
        {
          "output_type": "stream",
          "name": "stdout",
          "text": [
            "Best K value: 3\n",
            "Best cross-validated accuracy: 0.9583333333333334\n",
            "Test set accuracy with best K: 1.0\n"
          ]
        },
        {
          "output_type": "stream",
          "name": "stderr",
          "text": [
            "/usr/local/lib/python3.10/dist-packages/numpy/ma/core.py:2820: RuntimeWarning: invalid value encountered in cast\n",
            "  _data = np.array(data, dtype=dtype, copy=copy,\n"
          ]
        }
      ]
    }
  ]
}