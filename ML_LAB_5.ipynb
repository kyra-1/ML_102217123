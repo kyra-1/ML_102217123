{
  "nbformat": 4,
  "nbformat_minor": 0,
  "metadata": {
    "colab": {
      "provenance": []
    },
    "kernelspec": {
      "name": "python3",
      "display_name": "Python 3"
    },
    "language_info": {
      "name": "python"
    }
  },
  "cells": [
    {
      "cell_type": "code",
      "execution_count": null,
      "metadata": {
        "colab": {
          "base_uri": "https://localhost:8080/"
        },
        "id": "jawJMmhZEr41",
        "outputId": "38ee7458-ec27-4dde-8048-b61b97db584b"
      },
      "outputs": [
        {
          "output_type": "stream",
          "name": "stdout",
          "text": [
            "missing values in the dataset\n",
            "sepal length (cm)    0\n",
            "sepal width (cm)     0\n",
            "petal length (cm)    0\n",
            "petal width (cm)     0\n",
            "target               0\n",
            "dtype: int64\n",
            "\n",
            "Basic statistics of the dataset\n",
            "       sepal length (cm)  sepal width (cm)  petal length (cm)  petal width (cm)      target\n",
            "count         150.000000        150.000000         150.000000        150.000000  150.000000\n",
            "mean            5.843333          3.057333           3.758000          1.199333    1.000000\n",
            "std             0.828066          0.435866           1.765298          0.762238    0.819232\n",
            "min             4.300000          2.000000           1.000000          0.100000    0.000000\n",
            "25%             5.100000          2.800000           1.600000          0.300000    0.000000\n",
            "50%             5.800000          3.000000           4.350000          1.300000    1.000000\n",
            "75%             6.400000          3.300000           5.100000          1.800000    2.000000\n",
            "max             7.900000          4.400000           6.900000          2.500000    2.000000\n",
            "Accuracy: 0.97\n",
            "confusion matrix: \n",
            "[[10  0  0]\n",
            " [ 0  8  1]\n",
            " [ 0  0 11]]\n",
            "Classification Report: \n",
            "              precision    recall  f1-score   support\n",
            "\n",
            "           0       1.00      1.00      1.00        10\n",
            "           1       1.00      0.89      0.94         9\n",
            "           2       0.92      1.00      0.96        11\n",
            "\n",
            "    accuracy                           0.97        30\n",
            "   macro avg       0.97      0.96      0.97        30\n",
            "weighted avg       0.97      0.97      0.97        30\n",
            "\n"
          ]
        },
        {
          "output_type": "stream",
          "name": "stderr",
          "text": [
            "/usr/local/lib/python3.10/dist-packages/sklearn/linear_model/_logistic.py:1256: FutureWarning: 'multi_class' was deprecated in version 1.5 and will be removed in 1.7. Use OneVsRestClassifier(LogisticRegression(..)) instead. Leave it to its default value to avoid this warning.\n",
            "  warnings.warn(\n"
          ]
        }
      ],
      "source": [
        "#QUESTION-1\n",
        "import pandas as pd\n",
        "import numpy as np\n",
        "from sklearn.datasets import load_iris\n",
        "from sklearn.model_selection import train_test_split\n",
        "from sklearn.linear_model import LogisticRegression\n",
        "from sklearn.metrics import accuracy_score, classification_report, confusion_matrix\n",
        "from sklearn.preprocessing import StandardScaler\n",
        "\n",
        "iris=load_iris()\n",
        "x=iris.data\n",
        "y=iris.target\n",
        "\n",
        "df= pd.DataFrame(x,columns=iris.feature_names)\n",
        "df['target'] = y\n",
        "\n",
        "print(\"missing values in the dataset\")\n",
        "print(df.isnull().sum())\n",
        "\n",
        "print(\"\\nBasic statistics of the dataset\")\n",
        "print(df.describe())\n",
        "\n",
        "scaler= StandardScaler()\n",
        "\n",
        "x_scaled= scaler.fit_transform(x)\n",
        "\n",
        "x_train,x_test,y_train,y_test= train_test_split(x_scaled,y,test_size=0.2,random_state=42)\n",
        "\n",
        "model = LogisticRegression(multi_class='ovr', max_iter=200)\n",
        "\n",
        "model.fit(x_train,y_train)\n",
        "\n",
        "y_pred = model.predict(x_test)\n",
        "\n",
        "accuracy= accuracy_score(y_test,y_pred)\n",
        "\n",
        "conf_matrix = confusion_matrix(y_test,y_pred)\n",
        "\n",
        "class_report = classification_report(y_test,y_pred)\n",
        "\n",
        "print(f'Accuracy: {accuracy:.2f}')\n",
        "print('confusion matrix: ')\n",
        "print(conf_matrix)\n",
        "print(\"Classification Report: \")\n",
        "print(class_report)\n",
        "\n",
        "\n"
      ]
    },
    {
      "cell_type": "code",
      "source": [
        "#QUESTION-2\n",
        "from sklearn.tree import DecisionTreeClassifier\n",
        "from sklearn.model_selection import train_test_split\n",
        "from sklearn.metrics import accuracy_score\n",
        "from sklearn.preprocessing import LabelEncoder\n",
        "import pandas as pd\n",
        "\n",
        "df = pd.read_csv('weather.csv')\n",
        "\n",
        "print(df.head())\n",
        "\n",
        "df_encoded = pd.get_dummies(df, columns=['Outlook', 'Temp', 'Humidity', 'Windy'], drop_first=True)\n",
        "\n",
        "# Features and target\n",
        "X = df_encoded.drop(columns=['Play'])\n",
        "y = df_encoded['Play']\n",
        "\n",
        "# Splitting the dataset into training and testing sets\n",
        "X_train, X_test, y_train, y_test = train_test_split(X, y, test_size=0.2, random_state=42)\n",
        "\n",
        "# Initialize the Decision Tree Classifier\n",
        "clf = DecisionTreeClassifier(max_depth=3, min_samples_split=2, criterion='entropy', random_state=42)\n",
        "\n",
        "# Train the model\n",
        "clf.fit(X_train, y_train)\n",
        "\n",
        "# Predictions\n",
        "y_pred = clf.predict(X_test)\n",
        "\n",
        "# Evaluate the model\n",
        "accuracy = accuracy_score(y_test, y_pred)\n",
        "\n",
        "print(f\"Accuracy of the Decision Tree model: {accuracy:.2f}\")"
      ],
      "metadata": {
        "colab": {
          "base_uri": "https://localhost:8080/"
        },
        "id": "VcSsnjqcK1HO",
        "outputId": "f54a168b-7e36-43c0-d63a-5f3d600a2e7d"
      },
      "execution_count": null,
      "outputs": [
        {
          "output_type": "stream",
          "name": "stdout",
          "text": [
            "    Outlook  Temp Humidity  Windy  Play\n",
            "0     rainy   hot     high      0     0\n",
            "1     rainy   hot     high      1     0\n",
            "2  overcast   hot     high      0     1\n",
            "3     sunny  mild     high      0     1\n",
            "4     sunny  cool   normal      0     1\n",
            "Accuracy of the Decision Tree model: 0.67\n"
          ]
        }
      ]
    },
    {
      "cell_type": "code",
      "source": [
        "#Question-3\n",
        "\n",
        "import pandas as pd\n",
        "from sklearn.model_selection import train_test_split\n",
        "from sklearn.tree import DecisionTreeClassifier\n",
        "from sklearn.metrics import accuracy_score, classification_report\n",
        "\n",
        "# Load the dataset\n",
        "data = pd.read_csv('/content/BankNote_Authentication.csv')\n",
        "\n",
        "# Separate input features and target\n",
        "X = data[['variance', 'skewness', 'curtosis', 'entropy']]\n",
        "y = data['class']\n",
        "\n",
        "# Train-test split\n",
        "X_train, X_test, y_train, y_test = train_test_split(X, y, test_size=0.2, random_state=42)\n",
        "\n",
        "# Initialize and train the Decision Tree classifier\n",
        "model = DecisionTreeClassifier(random_state=42)\n",
        "model.fit(X_train, y_train)\n",
        "\n",
        "# Make predictions\n",
        "y_pred = model.predict(X_test)\n",
        "\n",
        "# Evaluate the model\n",
        "accuracy = accuracy_score(y_test, y_pred)\n",
        "print(\"Accuracy:\", accuracy)\n",
        "print(\"Classification Report:\\n\", classification_report(y_test, y_pred))\n"
      ],
      "metadata": {
        "colab": {
          "base_uri": "https://localhost:8080/"
        },
        "id": "BAJ_XzOFKWU-",
        "outputId": "fcda7d41-c986-4cf1-8abc-68dd2bf6d1b4"
      },
      "execution_count": null,
      "outputs": [
        {
          "output_type": "stream",
          "name": "stdout",
          "text": [
            "Accuracy: 0.9818181818181818\n",
            "Classification Report:\n",
            "               precision    recall  f1-score   support\n",
            "\n",
            "           0       0.97      1.00      0.98       148\n",
            "           1       1.00      0.96      0.98       127\n",
            "\n",
            "    accuracy                           0.98       275\n",
            "   macro avg       0.98      0.98      0.98       275\n",
            "weighted avg       0.98      0.98      0.98       275\n",
            "\n"
          ]
        }
      ]
    }
  ]
}